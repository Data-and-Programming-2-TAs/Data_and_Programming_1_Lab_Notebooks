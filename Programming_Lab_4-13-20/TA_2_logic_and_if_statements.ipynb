{
 "cells": [
  {
   "cell_type": "markdown",
   "metadata": {},
   "source": [
    "## Optional Activity:\n",
    "#### task: use a list to create a string or a few strings "
   ]
  },
  {
   "cell_type": "raw",
   "metadata": {},
   "source": [
    "Remember, there is a string method that you can use to turn a list of string into a string. But feel free to do more than that\n",
    "\n",
    "If you don't have an idea: \n",
    "Alter the example below so that instead of 4 sentences, you only print 2:\n",
    "print \"I've lived in CA, NM, and MO. Now I live in IL\""
   ]
  },
  {
   "cell_type": "code",
   "execution_count": null,
   "metadata": {},
   "outputs": [],
   "source": [
    "#note this is how str.format() works:\n",
    "my_string = \"Stuff {} and more stuff {}. Other stuff {}\"\n",
    "#my_string.format(what goes in the first{}, on the second{}, third{}, etc)\n",
    "my_string.format('that I say', 'that I want to say', 'that should not be said')"
   ]
  },
  {
   "cell_type": "code",
   "execution_count": 33,
   "metadata": {},
   "outputs": [
    {
     "name": "stdout",
     "output_type": "stream",
     "text": [
      "I've lived in CA\n",
      "I've lived in NM\n",
      "I've lived in MO\n",
      "Now I live in IL\n"
     ]
    }
   ],
   "source": [
    "#e.g.\n",
    "states = ['CA', 'NM', 'MO', 'IL']\n",
    "current = 'IL'\n",
    "\n",
    "for state in states:\n",
    "    if state == current:\n",
    "        print(\"Now I live in \"+ state)\n",
    "    else:\n",
    "        print(\"I've lived in \"+ state)\n"
   ]
  },
  {
   "cell_type": "code",
   "execution_count": 41,
   "metadata": {},
   "outputs": [
    {
     "name": "stdout",
     "output_type": "stream",
     "text": [
      "I've lived in IL\n",
      "I've lived in IL\n",
      "I've lived in IL\n",
      "Now I live in IL\n"
     ]
    }
   ],
   "source": [
    "#or do the same thing a little differently\n",
    "states = ['CA', 'NM', 'MO', 'IL']\n",
    "current = 'IL'\n",
    "\n",
    "for pinaple in states: \n",
    "    if pinaple == current:\n",
    "        print(\"Now I live in {}\".format(state))\n",
    "    else:\n",
    "        print(\"I've lived in {}\".format(state))"
   ]
  },
  {
   "cell_type": "code",
   "execution_count": 35,
   "metadata": {},
   "outputs": [
    {
     "name": "stdout",
     "output_type": "stream",
     "text": [
      "I've lived in CA\n",
      "I've lived in NM\n",
      "I've lived in MO\n",
      "Now I live in IL\n"
     ]
    }
   ],
   "source": [
    "#also the same!\n",
    "for i in range(len(states)):\n",
    "    if states[i] == current: \n",
    "        print(\"Now I live in \"+ states[i])\n",
    "    else:\n",
    "        print(\"I've lived in \"+ states[i])"
   ]
  },
  {
   "cell_type": "code",
   "execution_count": 38,
   "metadata": {},
   "outputs": [
    {
     "data": {
      "text/plain": [
       "'CA'"
      ]
     },
     "execution_count": 38,
     "metadata": {},
     "output_type": "execute_result"
    }
   ],
   "source": [
    "states[0]"
   ]
  },
  {
   "cell_type": "markdown",
   "metadata": {},
   "source": [
    "### Let's take this apart"
   ]
  },
  {
   "cell_type": "code",
   "execution_count": 39,
   "metadata": {},
   "outputs": [
    {
     "data": {
      "text/plain": [
       "[0, 1, 2, 3]"
      ]
     },
     "execution_count": 39,
     "metadata": {},
     "output_type": "execute_result"
    }
   ],
   "source": [
    "list(range(len(states)))"
   ]
  },
  {
   "cell_type": "code",
   "execution_count": null,
   "metadata": {},
   "outputs": [],
   "source": [
    "states[1] #index over the list"
   ]
  },
  {
   "cell_type": "code",
   "execution_count": 40,
   "metadata": {},
   "outputs": [
    {
     "name": "stdout",
     "output_type": "stream",
     "text": [
      "CA False\n",
      "NM False\n",
      "MO False\n",
      "IL True\n"
     ]
    }
   ],
   "source": [
    "for i in [0, 1, 2, 3]: #make i be each of these numbers, 0, 1, 2 and 3\n",
    "    print(states[i], states[i] == current) "
   ]
  },
  {
   "cell_type": "code",
   "execution_count": 42,
   "metadata": {},
   "outputs": [
    {
     "name": "stdout",
     "output_type": "stream",
     "text": [
      "CA True\n",
      "NM True\n",
      "MO True\n",
      "IL False\n"
     ]
    }
   ],
   "source": [
    "for i in [0, 1, 2, 3]:\n",
    "    print(states[i], states[i] != current) "
   ]
  },
  {
   "cell_type": "code",
   "execution_count": 43,
   "metadata": {},
   "outputs": [
    {
     "data": {
      "text/plain": [
       "[True, True, True, False]"
      ]
     },
     "execution_count": 43,
     "metadata": {},
     "output_type": "execute_result"
    }
   ],
   "source": [
    "#just making a list of these boolians, to work with\n",
    "temp_list = []\n",
    "for i in range(len(states)):\n",
    "    temp_list.append(states[i] != current) \n",
    "temp_list"
   ]
  },
  {
   "cell_type": "code",
   "execution_count": 45,
   "metadata": {},
   "outputs": [
    {
     "name": "stdout",
     "output_type": "stream",
     "text": [
      "it is True!\n"
     ]
    }
   ],
   "source": [
    "i = 2\n",
    "x = temp_list[i]\n",
    "if x == True:\n",
    "    print('it is True!')\n",
    "elif x == False:\n",
    "    print('it is False')\n",
    "else:\n",
    "    print('what?') #because there are only two options here, we never expect to enter this part of the if statement"
   ]
  },
  {
   "cell_type": "code",
   "execution_count": 47,
   "metadata": {},
   "outputs": [
    {
     "name": "stdout",
     "output_type": "stream",
     "text": [
      "it is False\n"
     ]
    }
   ],
   "source": [
    "#note, we can do the same thing this way:\n",
    "i = 3\n",
    "x = temp_list[i]\n",
    "if x:\n",
    "    print('it is True!')\n",
    "elif not x:\n",
    "    print('it is False')"
   ]
  },
  {
   "cell_type": "code",
   "execution_count": 48,
   "metadata": {},
   "outputs": [
    {
     "name": "stdout",
     "output_type": "stream",
     "text": [
      "it is False\n"
     ]
    }
   ],
   "source": [
    "#of course, since there are only two options, this is also the same\n",
    "i = 3\n",
    "x = temp_list[i]\n",
    "if x:\n",
    "    print('it is True!')\n",
    "else:\n",
    "    print('it is False')"
   ]
  },
  {
   "cell_type": "code",
   "execution_count": 50,
   "metadata": {},
   "outputs": [
    {
     "name": "stdout",
     "output_type": "stream",
     "text": [
      "['CA', 'NM', 'MO', 'IL']\n",
      "I'm in the elif\n",
      "elif is True\n",
      "I've lived in MO\n"
     ]
    }
   ],
   "source": [
    "#now back to the silly example\n",
    "print(states)\n",
    "i = 2\n",
    "if states[i] == current: \n",
    "    print(\"I'm in the if\")\n",
    "    print(\"if is {}\".format(states[i] == current))\n",
    "    print(\"Now I live in \"+ states[i])\n",
    "elif states[i] != current:\n",
    "    print(\"I'm in the elif\")\n",
    "    print(\"elif is {}\".format(states[i] != current))\n",
    "    print(\"I've lived in \"+ states[i])"
   ]
  },
  {
   "cell_type": "code",
   "execution_count": 51,
   "metadata": {},
   "outputs": [
    {
     "data": {
      "text/plain": [
       "False"
      ]
     },
     "execution_count": 51,
     "metadata": {},
     "output_type": "execute_result"
    }
   ],
   "source": [
    "states[i] == current"
   ]
  },
  {
   "cell_type": "markdown",
   "metadata": {},
   "source": [
    "## Another If Statement Example"
   ]
  },
  {
   "cell_type": "code",
   "execution_count": 54,
   "metadata": {},
   "outputs": [
    {
     "name": "stdout",
     "output_type": "stream",
     "text": [
      "Ok, that's nice. It's a string\n"
     ]
    }
   ],
   "source": [
    "my_var = '4'\n",
    "\n",
    "if isinstance(my_var, str): #isinstance is built in fn to test for data type\n",
    "    print(\"Ok, that's nice. It's a string\")\n",
    "elif isinstance(my_var, int):\n",
    "    print(my_var + 2)\n",
    "elif isinstance(my_var, float):\n",
    "    print(my_var * 2)\n",
    "else:\n",
    "    print('unexpected data type')\n"
   ]
  },
  {
   "cell_type": "markdown",
   "metadata": {},
   "source": [
    "### Nested If Statement "
   ]
  },
  {
   "cell_type": "code",
   "execution_count": 57,
   "metadata": {},
   "outputs": [
    {
     "name": "stdout",
     "output_type": "stream",
     "text": [
      "in elif for int\n",
      "int is neither divisible by 2 or by 5\n"
     ]
    }
   ],
   "source": [
    "my_var = 7\n",
    "\n",
    "if isinstance(my_var, str): #isinstance is built in fn to test for data type\n",
    "    print(\"Ok, that's nice. It's a string\")\n",
    "elif isinstance(my_var, int):\n",
    "    print('in elif for int')\n",
    "    if my_var % 2 == 0:\n",
    "        print('even integer')\n",
    "        print(my_var + 2)\n",
    "    elif my_var % 5 == 0:\n",
    "        print('int is divisible by 5')\n",
    "        print(my_var * 5)\n",
    "    else:\n",
    "        print('int is neither divisible by 2 or by 5')\n",
    "    #I removed the float elif, just so this wasn't so long\n",
    "else:\n",
    "    print('unexpected data type')"
   ]
  },
  {
   "cell_type": "code",
   "execution_count": 64,
   "metadata": {},
   "outputs": [
    {
     "name": "stdout",
     "output_type": "stream",
     "text": [
      "even integer\n",
      "12\n",
      "int is divisible by 5\n",
      "50\n"
     ]
    }
   ],
   "source": [
    "my_var = 10\n",
    "\n",
    "if isinstance(my_var, str): #isinstance is built in fn to test for data type\n",
    "    print(\"Ok, that's nice. It's a string\")\n",
    "elif isinstance(my_var, int):\n",
    "    if my_var % 2 == 0:\n",
    "        print('even integer')\n",
    "        print(my_var + 2)\n",
    "        if my_var % 5 == 0:\n",
    "            print('int is divisible by 5')\n",
    "            print(my_var * 5)\n",
    "    else:\n",
    "        print('int is odd')\n",
    "    #I removed the float elif, just so this wasn't so long\n",
    "else:\n",
    "    print('unexpected data type')"
   ]
  },
  {
   "cell_type": "markdown",
   "metadata": {},
   "source": [
    "### and, or, in, not"
   ]
  },
  {
   "cell_type": "code",
   "execution_count": 68,
   "metadata": {},
   "outputs": [
    {
     "name": "stdout",
     "output_type": "stream",
     "text": [
      "True\n",
      "True\n",
      "False\n",
      "True\n"
     ]
    }
   ],
   "source": [
    "x = [1,2,3,4] #len(x) == 4\n",
    "y = [3,5,9] #len(y) == 3\n",
    "\n",
    "print(len(x) < 5)\n",
    "print(len(y) <= 3)\n",
    "print(len(x) < 3 and len(y) <= 2)\n",
    "print(len(x) < 5 or len(y) <= 3)"
   ]
  },
  {
   "cell_type": "code",
   "execution_count": 69,
   "metadata": {},
   "outputs": [
    {
     "data": {
      "text/plain": [
       "True"
      ]
     },
     "execution_count": 69,
     "metadata": {},
     "output_type": "execute_result"
    }
   ],
   "source": [
    "1 in x and 3 in y"
   ]
  },
  {
   "cell_type": "code",
   "execution_count": 71,
   "metadata": {},
   "outputs": [
    {
     "name": "stdout",
     "output_type": "stream",
     "text": [
      "I have the data for Cook County, IL\n"
     ]
    }
   ],
   "source": [
    "states = ['CA', 'NM', 'MO', 'IL']\n",
    "counties = ['Los Angeles', 'Santa Fe','Cook County']\n",
    "state = 'IL'\n",
    "county = 'Cook County'\n",
    "\n",
    "if state in states and county in counties:\n",
    "    print(\"I have the data for {}, {}\".format(county, state))\n",
    "elif state in states and county not in counties:\n",
    "    print(\"I have the data for {}, but not for {}\".format(state, county))\n",
    "else:\n",
    "    print(\"Huh?\")"
   ]
  },
  {
   "cell_type": "code",
   "execution_count": 72,
   "metadata": {},
   "outputs": [
    {
     "name": "stdout",
     "output_type": "stream",
     "text": [
      "True\n",
      "True\n"
     ]
    }
   ],
   "source": [
    "print(state in states) \n",
    "print(county in counties)"
   ]
  },
  {
   "cell_type": "code",
   "execution_count": 73,
   "metadata": {},
   "outputs": [
    {
     "name": "stdout",
     "output_type": "stream",
     "text": [
      "True\n"
     ]
    }
   ],
   "source": [
    "print(state in states and county in counties) "
   ]
  },
  {
   "cell_type": "code",
   "execution_count": 74,
   "metadata": {},
   "outputs": [
    {
     "name": "stdout",
     "output_type": "stream",
     "text": [
      "True\n",
      "False\n"
     ]
    }
   ],
   "source": [
    "print(state in states) \n",
    "print(county not in counties)"
   ]
  },
  {
   "cell_type": "code",
   "execution_count": 75,
   "metadata": {},
   "outputs": [
    {
     "name": "stdout",
     "output_type": "stream",
     "text": [
      "False\n"
     ]
    }
   ],
   "source": [
    "print(state in states and county not in counties) "
   ]
  },
  {
   "cell_type": "code",
   "execution_count": 81,
   "metadata": {},
   "outputs": [
    {
     "name": "stdout",
     "output_type": "stream",
     "text": [
      "I have the data for Cook County or IL, maybe both\n"
     ]
    }
   ],
   "source": [
    "states = ['CA', 'NM', 'MO']#, 'IL']\n",
    "counties = ['Los Angeles', 'Santa Fe','Cook County']\n",
    "state = 'IL'\n",
    "county = 'Cook County'\n",
    "\n",
    "if state in states or county in counties:\n",
    "    print(\"I have the data for {} or {}, maybe both\".format(county, state))\n",
    "else:\n",
    "    print(\"I have the data for neither {} nor {}\".format(county, state))"
   ]
  },
  {
   "cell_type": "code",
   "execution_count": 82,
   "metadata": {},
   "outputs": [
    {
     "name": "stdout",
     "output_type": "stream",
     "text": [
      "False\n",
      "True\n"
     ]
    }
   ],
   "source": [
    "print(state in states)\n",
    "print(county in counties)"
   ]
  },
  {
   "cell_type": "code",
   "execution_count": 83,
   "metadata": {},
   "outputs": [
    {
     "name": "stdout",
     "output_type": "stream",
     "text": [
      "True\n",
      "False\n"
     ]
    }
   ],
   "source": [
    "print(state in states or county in counties) \n",
    "print(state in states and county in counties) "
   ]
  },
  {
   "cell_type": "markdown",
   "metadata": {},
   "source": [
    "## Reminder about Slicing "
   ]
  },
  {
   "cell_type": "code",
   "execution_count": 84,
   "metadata": {},
   "outputs": [],
   "source": [
    "my_string = 'This is a string'\n",
    "my_list = [1,'a', 2, 'b']"
   ]
  },
  {
   "cell_type": "code",
   "execution_count": 85,
   "metadata": {},
   "outputs": [
    {
     "data": {
      "text/plain": [
       "'b'"
      ]
     },
     "execution_count": 85,
     "metadata": {},
     "output_type": "execute_result"
    }
   ],
   "source": [
    "my_list[3]"
   ]
  },
  {
   "cell_type": "code",
   "execution_count": 86,
   "metadata": {},
   "outputs": [
    {
     "data": {
      "text/plain": [
       "'g'"
      ]
     },
     "execution_count": 86,
     "metadata": {},
     "output_type": "execute_result"
    }
   ],
   "source": [
    "my_string[15]"
   ]
  },
  {
   "cell_type": "code",
   "execution_count": 87,
   "metadata": {},
   "outputs": [
    {
     "data": {
      "text/plain": [
       "'b'"
      ]
     },
     "execution_count": 87,
     "metadata": {},
     "output_type": "execute_result"
    }
   ],
   "source": [
    "my_list[-1]"
   ]
  },
  {
   "cell_type": "code",
   "execution_count": 88,
   "metadata": {},
   "outputs": [
    {
     "data": {
      "text/plain": [
       "'g'"
      ]
     },
     "execution_count": 88,
     "metadata": {},
     "output_type": "execute_result"
    }
   ],
   "source": [
    "my_string[-1]"
   ]
  },
  {
   "cell_type": "code",
   "execution_count": 89,
   "metadata": {},
   "outputs": [
    {
     "data": {
      "text/plain": [
       "['b', 2, 'a', 1]"
      ]
     },
     "execution_count": 89,
     "metadata": {},
     "output_type": "execute_result"
    }
   ],
   "source": [
    "my_list[::-1] #[start:end:step]"
   ]
  },
  {
   "cell_type": "code",
   "execution_count": 90,
   "metadata": {},
   "outputs": [
    {
     "data": {
      "text/plain": [
       "'gnirts a si sihT'"
      ]
     },
     "execution_count": 90,
     "metadata": {},
     "output_type": "execute_result"
    }
   ],
   "source": [
    "my_string[::-1]"
   ]
  },
  {
   "cell_type": "markdown",
   "metadata": {},
   "source": [
    "## Next Time: Functions and for loops"
   ]
  },
  {
   "cell_type": "code",
   "execution_count": 91,
   "metadata": {},
   "outputs": [],
   "source": [
    "#a function\n",
    "def my_function(goes_in, also_goes_in):\n",
    "    print('do someting to ' + goes_in)\n",
    "    print('do something to ' + also_goes_in + ' too')\n",
    "\n",
    "x = 'my variable'\n",
    "y ='my other variable'\n"
   ]
  },
  {
   "cell_type": "code",
   "execution_count": 92,
   "metadata": {},
   "outputs": [
    {
     "name": "stdout",
     "output_type": "stream",
     "text": [
      "do someting to my variable\n",
      "do something to my other variable too\n"
     ]
    }
   ],
   "source": [
    "my_function(x,y) "
   ]
  },
  {
   "cell_type": "code",
   "execution_count": 93,
   "metadata": {},
   "outputs": [
    {
     "name": "stdout",
     "output_type": "stream",
     "text": [
      "1\n",
      "a\n",
      "2\n",
      "b\n"
     ]
    }
   ],
   "source": [
    "#you've seen for loops: takes each element in my_list and does the thing I ask it to do\n",
    "for x in my_list:\n",
    "    print(x)"
   ]
  },
  {
   "cell_type": "code",
   "execution_count": null,
   "metadata": {},
   "outputs": [],
   "source": []
  }
 ],
 "metadata": {
  "kernelspec": {
   "display_name": "Python 3",
   "language": "python",
   "name": "python3"
  },
  "language_info": {
   "codemirror_mode": {
    "name": "ipython",
    "version": 3
   },
   "file_extension": ".py",
   "mimetype": "text/x-python",
   "name": "python",
   "nbconvert_exporter": "python",
   "pygments_lexer": "ipython3",
   "version": "3.7.1"
  }
 },
 "nbformat": 4,
 "nbformat_minor": 2
}
